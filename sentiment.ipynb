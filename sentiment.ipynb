{
 "cells": [
  {
   "cell_type": "code",
   "execution_count": 191,
   "id": "f45ee456",
   "metadata": {},
   "outputs": [
    {
     "name": "stderr",
     "output_type": "stream",
     "text": [
      "[nltk_data] Downloading package punkt to C:\\Users\\Vrooh/nltk_data...\n",
      "[nltk_data]   Package punkt is already up-to-date!\n",
      "[nltk_data] Downloading package punkt_tab to\n",
      "[nltk_data]     C:\\Users\\Vrooh/nltk_data...\n",
      "[nltk_data]   Package punkt_tab is already up-to-date!\n",
      "[nltk_data] Downloading package stopwords to\n",
      "[nltk_data]     C:\\Users\\Vrooh/nltk_data...\n",
      "[nltk_data]   Package stopwords is already up-to-date!\n"
     ]
    }
   ],
   "source": [
    "# 1. Import Library\n",
    "import pandas as pd\n",
    "import numpy as np\n",
    "import matplotlib.pyplot as plt\n",
    "import seaborn as sns\n",
    "import nltk\n",
    "import re\n",
    "from sklearn.model_selection import train_test_split\n",
    "from sklearn.feature_extraction.text import TfidfVectorizer\n",
    "from sklearn.metrics import classification_report, confusion_matrix\n",
    "from tensorflow.keras.models import Sequential\n",
    "from tensorflow.keras.layers import Dense, Dropout\n",
    "from tensorflow.keras.optimizers import Adam\n",
    "from keras.utils import to_categorical\n",
    "\n",
    "nltk.download('punkt')\n",
    "nltk.download('punkt_tab')\n",
    "nltk.download('stopwords')\n",
    "\n",
    "from nltk.corpus import stopwords\n",
    "from nltk.tokenize import word_tokenize\n"
   ]
  },
  {
   "cell_type": "code",
   "execution_count": 192,
   "id": "4a905c12",
   "metadata": {},
   "outputs": [
    {
     "data": {
      "text/html": [
       "<div>\n",
       "<style scoped>\n",
       "    .dataframe tbody tr th:only-of-type {\n",
       "        vertical-align: middle;\n",
       "    }\n",
       "\n",
       "    .dataframe tbody tr th {\n",
       "        vertical-align: top;\n",
       "    }\n",
       "\n",
       "    .dataframe thead th {\n",
       "        text-align: right;\n",
       "    }\n",
       "</style>\n",
       "<table border=\"1\" class=\"dataframe\">\n",
       "  <thead>\n",
       "    <tr style=\"text-align: right;\">\n",
       "      <th></th>\n",
       "      <th>review</th>\n",
       "      <th>sentiment</th>\n",
       "    </tr>\n",
       "  </thead>\n",
       "  <tbody>\n",
       "    <tr>\n",
       "      <th>0</th>\n",
       "      <td>enjoyable, though it gets worse once you get t...</td>\n",
       "      <td>positive</td>\n",
       "    </tr>\n",
       "    <tr>\n",
       "      <th>1</th>\n",
       "      <td>good game</td>\n",
       "      <td>positive</td>\n",
       "    </tr>\n",
       "    <tr>\n",
       "      <th>2</th>\n",
       "      <td>I confirmed that the residents of the house ar...</td>\n",
       "      <td>positive</td>\n",
       "    </tr>\n",
       "    <tr>\n",
       "      <th>3</th>\n",
       "      <td>This game was a real surprise, it pretty much ...</td>\n",
       "      <td>positive</td>\n",
       "    </tr>\n",
       "    <tr>\n",
       "      <th>4</th>\n",
       "      <td>great game I was reluctant to play as I had hi...</td>\n",
       "      <td>positive</td>\n",
       "    </tr>\n",
       "  </tbody>\n",
       "</table>\n",
       "</div>"
      ],
      "text/plain": [
       "                                              review sentiment\n",
       "0  enjoyable, though it gets worse once you get t...  positive\n",
       "1                                          good game  positive\n",
       "2  I confirmed that the residents of the house ar...  positive\n",
       "3  This game was a real surprise, it pretty much ...  positive\n",
       "4  great game I was reluctant to play as I had hi...  positive"
      ]
     },
     "execution_count": 192,
     "metadata": {},
     "output_type": "execute_result"
    }
   ],
   "source": [
    "# 2. Load Dataset\n",
    "dfb = pd.read_csv('dataset_init.csv')\n",
    "dfb.head()"
   ]
  },
  {
   "cell_type": "code",
   "execution_count": 193,
   "id": "506ec06a",
   "metadata": {},
   "outputs": [
    {
     "name": "stdout",
     "output_type": "stream",
     "text": [
      "Relabeling selesai! Dataset baru disimpan di 'dataset_relabelled.csv'.\n"
     ]
    }
   ],
   "source": [
    "# 2. Daftar kata-kata yang menunjukkan review \"netral\"\n",
    "neutral_keywords = ['ok', 'fine', 'decent', 'not bad', 'good enough', 'good game', 'average', 'mediocre', 'acceptable', 'satisfactory', 'not great', 'not terrible']\n",
    "\n",
    "# 3. Daftar ID (atau indeks) yang mau diubah manual ke netral\n",
    "# Kalau tidak ada, kosongkan list ini\n",
    "manual_neutral_ids = []\n",
    "\n",
    "# 4. Threshold jumlah kata untuk dianggap netral\n",
    "min_words_netral = 2\n",
    "max_words_netral = 5\n",
    "\n",
    "# 5. Fungsi relabel gabungan\n",
    "def relabel(row):\n",
    "    text = str(row['review']).lower()\n",
    "    num_words = len(text.split())\n",
    "    \n",
    "    # Prioritas 1: Jika ID ada di daftar manual override\n",
    "    # if row.name in manual_neutral_ids:\n",
    "    #     return 'Neutral'  # Netral\n",
    "    \n",
    "    # Prioritas 2: Jika mengandung kata netral\n",
    "    if any(keyword in text for keyword in neutral_keywords):\n",
    "        return 'Neutral'  # Netral\n",
    "\n",
    "    # Prioritas 3: Jika panjang kalimat pendek (ambiguous review)\n",
    "    # if min_words_netral <= num_words <= max_words_netral:\n",
    "    #     return 'Neutral'  # Netral\n",
    "    \n",
    "    # Kalau tidak memenuhi semua di atas, pakai label asli\n",
    "    return row['sentiment']\n",
    "\n",
    "# 6. Terapkan fungsi relabel\n",
    "dfb['new_sentiment'] = dfb.apply(relabel, axis=1)\n",
    "\n",
    "# 7. Simpan ke file baru\n",
    "dfb.to_csv('dataset_relabelled.csv', index=False)\n",
    "\n",
    "print(\"Relabeling selesai! Dataset baru disimpan di 'dataset_relabelled.csv'.\")"
   ]
  },
  {
   "cell_type": "code",
   "execution_count": 194,
   "id": "05decc81",
   "metadata": {},
   "outputs": [
    {
     "data": {
      "text/html": [
       "<div>\n",
       "<style scoped>\n",
       "    .dataframe tbody tr th:only-of-type {\n",
       "        vertical-align: middle;\n",
       "    }\n",
       "\n",
       "    .dataframe tbody tr th {\n",
       "        vertical-align: top;\n",
       "    }\n",
       "\n",
       "    .dataframe thead th {\n",
       "        text-align: right;\n",
       "    }\n",
       "</style>\n",
       "<table border=\"1\" class=\"dataframe\">\n",
       "  <thead>\n",
       "    <tr style=\"text-align: right;\">\n",
       "      <th></th>\n",
       "      <th>review</th>\n",
       "      <th>sentiment</th>\n",
       "      <th>new_sentiment</th>\n",
       "    </tr>\n",
       "  </thead>\n",
       "  <tbody>\n",
       "    <tr>\n",
       "      <th>0</th>\n",
       "      <td>enjoyable, though it gets worse once you get t...</td>\n",
       "      <td>positive</td>\n",
       "      <td>positive</td>\n",
       "    </tr>\n",
       "    <tr>\n",
       "      <th>1</th>\n",
       "      <td>good game</td>\n",
       "      <td>positive</td>\n",
       "      <td>Neutral</td>\n",
       "    </tr>\n",
       "    <tr>\n",
       "      <th>2</th>\n",
       "      <td>I confirmed that the residents of the house ar...</td>\n",
       "      <td>positive</td>\n",
       "      <td>positive</td>\n",
       "    </tr>\n",
       "    <tr>\n",
       "      <th>3</th>\n",
       "      <td>This game was a real surprise, it pretty much ...</td>\n",
       "      <td>positive</td>\n",
       "      <td>positive</td>\n",
       "    </tr>\n",
       "    <tr>\n",
       "      <th>4</th>\n",
       "      <td>great game I was reluctant to play as I had hi...</td>\n",
       "      <td>positive</td>\n",
       "      <td>positive</td>\n",
       "    </tr>\n",
       "  </tbody>\n",
       "</table>\n",
       "</div>"
      ],
      "text/plain": [
       "                                              review sentiment new_sentiment\n",
       "0  enjoyable, though it gets worse once you get t...  positive      positive\n",
       "1                                          good game  positive       Neutral\n",
       "2  I confirmed that the residents of the house ar...  positive      positive\n",
       "3  This game was a real surprise, it pretty much ...  positive      positive\n",
       "4  great game I was reluctant to play as I had hi...  positive      positive"
      ]
     },
     "execution_count": 194,
     "metadata": {},
     "output_type": "execute_result"
    }
   ],
   "source": [
    "# 2. Load Dataset\n",
    "df = pd.read_csv('dataset_relabelled.csv')\n",
    "df.head()"
   ]
  },
  {
   "cell_type": "code",
   "execution_count": 195,
   "id": "1e7e5268",
   "metadata": {},
   "outputs": [
    {
     "name": "stdout",
     "output_type": "stream",
     "text": [
      "                                              review sentiment new_sentiment  \\\n",
      "0  enjoyable, though it gets worse once you get t...  positive      positive   \n",
      "1                                          good game  positive       Neutral   \n",
      "2  I confirmed that the residents of the house ar...  positive      positive   \n",
      "3  This game was a real surprise, it pretty much ...  positive      positive   \n",
      "4  great game I was reluctant to play as I had hi...  positive      positive   \n",
      "\n",
      "                                      cleaned_review  \n",
      "0  enjoyable though gets worse get halfway point ...  \n",
      "1                                          good game  \n",
      "2              confirmed residents house infact evil  \n",
      "3  game real surprise pretty much saved resident ...  \n",
      "4  great game reluctant play high expectations re...  \n"
     ]
    }
   ],
   "source": [
    "stop_words = set(stopwords.words('english'))\n",
    "\n",
    "def preprocess_text(text):\n",
    "    # Menangani NaN dan tipe data non-string\n",
    "    if not isinstance(text, str):\n",
    "        return ''  # Kembalikan string kosong jika bukan string\n",
    "    \n",
    "    text = text.lower()\n",
    "    text = re.sub(r'[^a-zA-Z\\s]', '', text)  # Menghapus karakter selain huruf dan spasi\n",
    "    tokens = nltk.word_tokenize(text)\n",
    "    tokens = [word for word in tokens if word not in stop_words]\n",
    "    return ' '.join(tokens)\n",
    "\n",
    "# Terapkan preprocessing pada kolom 'review'\n",
    "df['cleaned_review'] = df['review'].apply(preprocess_text)\n",
    "\n",
    "# Menampilkan hasil\n",
    "print(df.head())"
   ]
  },
  {
   "cell_type": "code",
   "execution_count": 196,
   "id": "2a99ca88",
   "metadata": {},
   "outputs": [],
   "source": [
    "vectorizer = TfidfVectorizer(max_features=5000)\n",
    "X = vectorizer.fit_transform(df['cleaned_review']).toarray()\n",
    "y = df['new_sentiment'].map({'positive':1, 'negative':0, 'Neutral':2}).values"
   ]
  },
  {
   "cell_type": "code",
   "execution_count": 197,
   "id": "1f6943cf",
   "metadata": {},
   "outputs": [],
   "source": [
    "# 5. Train-Test Split\n",
    "X_train, X_test, y_train, y_test = train_test_split(X, y, test_size=0.2, random_state=42)"
   ]
  },
  {
   "cell_type": "code",
   "execution_count": 198,
   "id": "4e0789f6",
   "metadata": {},
   "outputs": [],
   "source": [
    "# One-hot encode the labels\n",
    "y_train = to_categorical(y_train, num_classes=3)\n",
    "y_test = to_categorical(y_test, num_classes=3)"
   ]
  },
  {
   "cell_type": "code",
   "execution_count": 199,
   "id": "f99136f4",
   "metadata": {},
   "outputs": [
    {
     "name": "stderr",
     "output_type": "stream",
     "text": [
      "c:\\Users\\Vrooh\\anaconda3\\envs\\submission-analysis\\lib\\site-packages\\keras\\src\\layers\\core\\dense.py:87: UserWarning: Do not pass an `input_shape`/`input_dim` argument to a layer. When using Sequential models, prefer using an `Input(shape)` object as the first layer in the model instead.\n",
      "  super().__init__(activity_regularizer=activity_regularizer, **kwargs)\n"
     ]
    },
    {
     "name": "stdout",
     "output_type": "stream",
     "text": [
      "Epoch 1/10\n",
      "\u001b[1m859/859\u001b[0m \u001b[32m━━━━━━━━━━━━━━━━━━━━\u001b[0m\u001b[37m\u001b[0m \u001b[1m15s\u001b[0m 16ms/step - accuracy: 0.8265 - loss: 0.7370 - weighted_accuracy: 0.7621 - val_accuracy: 0.9051 - val_loss: 0.2733 - val_weighted_accuracy: 0.9051\n",
      "Epoch 2/10\n",
      "\u001b[1m859/859\u001b[0m \u001b[32m━━━━━━━━━━━━━━━━━━━━\u001b[0m\u001b[37m\u001b[0m \u001b[1m15s\u001b[0m 17ms/step - accuracy: 0.9283 - loss: 0.3107 - weighted_accuracy: 0.9111 - val_accuracy: 0.8959 - val_loss: 0.2870 - val_weighted_accuracy: 0.8959\n",
      "Epoch 3/10\n",
      "\u001b[1m859/859\u001b[0m \u001b[32m━━━━━━━━━━━━━━━━━━━━\u001b[0m\u001b[37m\u001b[0m \u001b[1m14s\u001b[0m 16ms/step - accuracy: 0.9577 - loss: 0.2101 - weighted_accuracy: 0.9478 - val_accuracy: 0.9099 - val_loss: 0.2737 - val_weighted_accuracy: 0.9099\n",
      "Epoch 4/10\n",
      "\u001b[1m859/859\u001b[0m \u001b[32m━━━━━━━━━━━━━━━━━━━━\u001b[0m\u001b[37m\u001b[0m \u001b[1m13s\u001b[0m 15ms/step - accuracy: 0.9720 - loss: 0.1436 - weighted_accuracy: 0.9650 - val_accuracy: 0.9086 - val_loss: 0.3122 - val_weighted_accuracy: 0.9086\n",
      "Epoch 5/10\n",
      "\u001b[1m859/859\u001b[0m \u001b[32m━━━━━━━━━━━━━━━━━━━━\u001b[0m\u001b[37m\u001b[0m \u001b[1m13s\u001b[0m 16ms/step - accuracy: 0.9807 - loss: 0.1071 - weighted_accuracy: 0.9757 - val_accuracy: 0.9100 - val_loss: 0.3550 - val_weighted_accuracy: 0.9100\n",
      "Epoch 6/10\n",
      "\u001b[1m859/859\u001b[0m \u001b[32m━━━━━━━━━━━━━━━━━━━━\u001b[0m\u001b[37m\u001b[0m \u001b[1m13s\u001b[0m 15ms/step - accuracy: 0.9854 - loss: 0.0869 - weighted_accuracy: 0.9813 - val_accuracy: 0.9046 - val_loss: 0.4074 - val_weighted_accuracy: 0.9046\n",
      "Epoch 7/10\n",
      "\u001b[1m859/859\u001b[0m \u001b[32m━━━━━━━━━━━━━━━━━━━━\u001b[0m\u001b[37m\u001b[0m \u001b[1m13s\u001b[0m 15ms/step - accuracy: 0.9853 - loss: 0.0816 - weighted_accuracy: 0.9813 - val_accuracy: 0.9075 - val_loss: 0.4181 - val_weighted_accuracy: 0.9075\n",
      "Epoch 8/10\n",
      "\u001b[1m859/859\u001b[0m \u001b[32m━━━━━━━━━━━━━━━━━━━━\u001b[0m\u001b[37m\u001b[0m \u001b[1m14s\u001b[0m 16ms/step - accuracy: 0.9848 - loss: 0.0851 - weighted_accuracy: 0.9807 - val_accuracy: 0.9097 - val_loss: 0.4248 - val_weighted_accuracy: 0.9097\n",
      "Epoch 9/10\n",
      "\u001b[1m859/859\u001b[0m \u001b[32m━━━━━━━━━━━━━━━━━━━━\u001b[0m\u001b[37m\u001b[0m \u001b[1m13s\u001b[0m 15ms/step - accuracy: 0.9867 - loss: 0.0776 - weighted_accuracy: 0.9829 - val_accuracy: 0.9071 - val_loss: 0.4476 - val_weighted_accuracy: 0.9071\n",
      "Epoch 10/10\n",
      "\u001b[1m859/859\u001b[0m \u001b[32m━━━━━━━━━━━━━━━━━━━━\u001b[0m\u001b[37m\u001b[0m \u001b[1m13s\u001b[0m 15ms/step - accuracy: 0.9863 - loss: 0.0823 - weighted_accuracy: 0.9821 - val_accuracy: 0.9065 - val_loss: 0.4527 - val_weighted_accuracy: 0.9065\n"
     ]
    }
   ],
   "source": [
    "# 4. Model Building (Deep Learning)\n",
    "model = Sequential()\n",
    "model.add(Dense(512, activation='relu', input_shape=(X_train.shape[1],)))\n",
    "model.add(Dropout(0.5))\n",
    "model.add(Dense(256, activation='relu'))\n",
    "model.add(Dropout(0.5))\n",
    "model.add(Dense(128, activation='relu'))\n",
    "model.add(Dropout(0.3))\n",
    "model.add(Dense(3, activation='softmax'))\n",
    "\n",
    "# model.compile(optimizer=Adam(learning_rate=0.001), loss='categorical_crossentropy', metrics=['accuracy'])\n",
    "model.compile(optimizer=Adam(learning_rate=0.001), \n",
    "              loss='categorical_crossentropy', \n",
    "              metrics=['accuracy'],\n",
    "              weighted_metrics=['accuracy'])\n",
    "\n",
    "# 5. Training\n",
    "# history = model.fit(X_train, y_train, epochs=10, batch_size=32, validation_data=(X_test, y_test))\n",
    "\n",
    "class_weights = {0: 2, 1: 1, 2: 2}  # Sesuaikan dengan distribusi kelas\n",
    "history = model.fit(X_train, y_train, epochs=10, batch_size=32, validation_data=(X_test, y_test), class_weight=class_weights)"
   ]
  },
  {
   "cell_type": "code",
   "execution_count": 200,
   "id": "0b03f352",
   "metadata": {},
   "outputs": [
    {
     "name": "stdout",
     "output_type": "stream",
     "text": [
      "\u001b[1m215/215\u001b[0m \u001b[32m━━━━━━━━━━━━━━━━━━━━\u001b[0m\u001b[37m\u001b[0m \u001b[1m0s\u001b[0m 2ms/step - accuracy: 0.9073 - loss: 0.4472 - weighted_accuracy: 0.9073\n",
      "Test Accuracy: 90.65%\n",
      "\u001b[1m215/215\u001b[0m \u001b[32m━━━━━━━━━━━━━━━━━━━━\u001b[0m\u001b[37m\u001b[0m \u001b[1m0s\u001b[0m 2ms/step\n",
      "Classification Report:\n",
      "               precision    recall  f1-score   support\n",
      "\n",
      "           0       0.55      0.37      0.44       287\n",
      "           1       0.93      0.96      0.94      5267\n",
      "           2       0.88      0.80      0.84      1314\n",
      "\n",
      "    accuracy                           0.91      6868\n",
      "   macro avg       0.78      0.71      0.74      6868\n",
      "weighted avg       0.90      0.91      0.90      6868\n",
      "\n"
     ]
    },
    {
     "data": {
      "image/png": "[encoded data removed]",
      "text/plain": [
       "<Figure size 800x600 with 2 Axes>"
      ]
     },
     "metadata": {},
     "output_type": "display_data"
    }
   ],
   "source": [
    "# 8. Evaluasi\n",
    "# Pastikan untuk menangkap semua nilai yang dikembalikan oleh evaluate()\n",
    "results = model.evaluate(X_test, y_test)\n",
    "loss = results[0]\n",
    "accuracy = results[1]\n",
    "\n",
    "# Jika ada metrik tambahan (misalnya weighted_accuracy), Anda dapat menambahkan:\n",
    "# weighted_accuracy = results[2] # Sesuaikan dengan urutan metrik yang ada\n",
    "\n",
    "print(f\"Test Accuracy: {accuracy * 100:.2f}%\")\n",
    "\n",
    "# Prediksi kelas untuk X_test\n",
    "y_pred = model.predict(X_test)\n",
    "y_pred = np.argmax(y_pred, axis=1)  # Mengambil kelas dengan probabilitas tertinggi\n",
    "\n",
    "# Konversi y_test ke label kelas (sama dengan prediksi)\n",
    "y_test_labels = np.argmax(y_test, axis=1)\n",
    "\n",
    "# Print classification report\n",
    "from sklearn.metrics import classification_report, confusion_matrix\n",
    "print(\"Classification Report:\\n\", classification_report(y_test_labels, y_pred))\n",
    "\n",
    "# Hitung confusion matrix\n",
    "conf_matrix = confusion_matrix(y_test_labels, y_pred)\n",
    "\n",
    "plt.figure(figsize=(8, 6))\n",
    "sns.heatmap(conf_matrix, annot=True, fmt='d', cmap='Blues', xticklabels=['Kelas 0', 'Kelas 1', 'Kelas 2'], yticklabels=['Kelas 0', 'Kelas 1', 'Kelas 2'])\n",
    "plt.xlabel('Prediksi')\n",
    "plt.ylabel('Aktual')\n",
    "plt.title('Confusion Matrix')\n",
    "plt.show()\n"
   ]
  },
  {
   "cell_type": "code",
   "execution_count": 202,
   "id": "fd2dcfea",
   "metadata": {},
   "outputs": [
    {
     "name": "stdout",
     "output_type": "stream",
     "text": [
      "\u001b[1m1/1\u001b[0m \u001b[32m━━━━━━━━━━━━━━━━━━━━\u001b[0m\u001b[37m\u001b[0m \u001b[1m0s\u001b[0m 30ms/step\n",
      "Probabilities - Positive: 0.9998998641967773, Neutral: 3.1582050723955035e-05, Negative: 6.857597327325493e-05\n",
      "Predicted Sentiment for 'This game is awesome!': Positive\n",
      "\u001b[1m1/1\u001b[0m \u001b[32m━━━━━━━━━━━━━━━━━━━━\u001b[0m\u001b[37m\u001b[0m \u001b[1m0s\u001b[0m 29ms/step\n",
      "Probabilities - Positive: 0.01239472720772028, Neutral: 0.9875984787940979, Negative: 6.843141818535514e-06\n",
      "Predicted Sentiment for 'good game': Neutral\n",
      "\u001b[1m1/1\u001b[0m \u001b[32m━━━━━━━━━━━━━━━━━━━━\u001b[0m\u001b[37m\u001b[0m \u001b[1m0s\u001b[0m 28ms/step\n",
      "Probabilities - Positive: 0.2801394760608673, Neutral: 0.012843495234847069, Negative: 0.7070171236991882\n",
      "Predicted Sentiment for 'Stupid game, I hate it.': Negative\n"
     ]
    }
   ],
   "source": [
    "# 9. Inference (Opsional Biar Nilai Tinggi)\n",
    "def predict_sentiment(text):\n",
    "    cleaned = preprocess_text(text)  # Pembersihan teks\n",
    "    vect_text = vectorizer.transform([cleaned]).toarray()  # Transformasi teks menjadi fitur\n",
    "    prediction = model.predict(vect_text)  # Hasil prediksi model\n",
    "    \n",
    "    # Dapatkan probabilitas untuk setiap kelas\n",
    "    positive_prob = prediction[0][1]\n",
    "    neutral_prob = prediction[0][2]\n",
    "    negative_prob = prediction[0][0]\n",
    "    \n",
    "    print(f\"Probabilities - Positive: {positive_prob}, Neutral: {neutral_prob}, Negative: {negative_prob}\")\n",
    "    \n",
    "    # Tentukan kelas berdasarkan probabilitas tertinggi\n",
    "    if positive_prob > neutral_prob and positive_prob > negative_prob:\n",
    "        return \"Positive\"\n",
    "    elif neutral_prob > positive_prob and neutral_prob > negative_prob:\n",
    "        return \"Neutral\"\n",
    "    else:\n",
    "        return \"Negative\"\n",
    "\n",
    "\n",
    "# Test Sampel\n",
    "sample_1 = \"This game is awesome!\"\n",
    "sample_2 = \"good game\"\n",
    "sample_3 = \"Stupid game, I hate it.\"\n",
    "\n",
    "print(f\"Predicted Sentiment for '{sample_1}': {predict_sentiment(sample_1)}\")\n",
    "print(f\"Predicted Sentiment for '{sample_2}': {predict_sentiment(sample_2)}\")\n",
    "print(f\"Predicted Sentiment for '{sample_3}': {predict_sentiment(sample_3)}\")\n"
   ]
  }
 ],
 "metadata": {
  "kernelspec": {
   "display_name": "submission-analysis",
   "language": "python",
   "name": "python3"
  },
  "language_info": {
   "codemirror_mode": {
    "name": "ipython",
    "version": 3
   },
   "file_extension": ".py",
   "mimetype": "text/x-python",
   "name": "python",
   "nbconvert_exporter": "python",
   "pygments_lexer": "ipython3",
   "version": "3.9.21"
  }
 },
 "nbformat": 4,
 "nbformat_minor": 5
}
